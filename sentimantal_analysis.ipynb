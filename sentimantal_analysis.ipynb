{
  "cells": [
    {
      "cell_type": "markdown",
      "source": [
        "# importing modules,packages"
      ],
      "metadata": {
        "id": "MqDHIZiv0vOZ"
      }
    },
    {
      "cell_type": "code",
      "execution_count": 14,
      "metadata": {
        "id": "zwFnJsE6vjf8"
      },
      "outputs": [],
      "source": [
        "import pandas as pd\n",
        "from sklearn.model_selection import train_test_split\n",
        "from sklearn.feature_extraction.text import CountVectorizer\n",
        "from sklearn.naive_bayes import MultinomialNB\n",
        "from sklearn.metrics import accuracy_score\n"
      ]
    },
    {
      "cell_type": "markdown",
      "source": [
        "# loading csv file"
      ],
      "metadata": {
        "id": "_p2EUArp1Cih"
      }
    },
    {
      "cell_type": "code",
      "source": [
        "df = pd.read_csv('/content/Restaurant_Reviews.csv')"
      ],
      "metadata": {
        "id": "ezGkMknhxFfZ"
      },
      "execution_count": 3,
      "outputs": []
    },
    {
      "cell_type": "markdown",
      "source": [
        "# feauters taking"
      ],
      "metadata": {
        "id": "GH5dFZm_1OhI"
      }
    },
    {
      "cell_type": "code",
      "source": [
        "X = df['Review']\n",
        "y = df['Liked']"
      ],
      "metadata": {
        "id": "gLHzX1ZaxQCI"
      },
      "execution_count": 4,
      "outputs": []
    },
    {
      "cell_type": "markdown",
      "source": [
        "# seperating testing and training data"
      ],
      "metadata": {
        "id": "16W-_FJx1UYi"
      }
    },
    {
      "cell_type": "code",
      "source": [
        "X_train, X_test, y_train, y_test = train_test_split(X, y, test_size=0.2, random_state=42)"
      ],
      "metadata": {
        "id": "3Pfam0ekxTaQ"
      },
      "execution_count": 5,
      "outputs": []
    },
    {
      "cell_type": "markdown",
      "source": [
        "# fitting data into modal"
      ],
      "metadata": {
        "id": "bQX7VhQl106g"
      }
    },
    {
      "cell_type": "code",
      "source": [
        "vectorizer = CountVectorizer()\n",
        "X_train_vec = vectorizer.fit_transform(X_train)\n",
        "X_test_vec = vectorizer.transform(X_test)"
      ],
      "metadata": {
        "id": "535yKmoRxVBA"
      },
      "execution_count": 6,
      "outputs": []
    },
    {
      "cell_type": "markdown",
      "source": [
        "# model"
      ],
      "metadata": {
        "id": "bQxlQlj72AqA"
      }
    },
    {
      "cell_type": "code",
      "source": [
        "clf = MultinomialNB()\n",
        "clf.fit(X_train_vec, y_train)"
      ],
      "metadata": {
        "id": "R--O_AtSxU5I",
        "outputId": "7c111cd3-addc-4287-ff1e-4f847ff7a0bd",
        "colab": {
          "base_uri": "https://localhost:8080/",
          "height": 75
        }
      },
      "execution_count": 7,
      "outputs": [
        {
          "output_type": "execute_result",
          "data": {
            "text/plain": [
              "MultinomialNB()"
            ],
            "text/html": [
              "<style>#sk-container-id-1 {color: black;background-color: white;}#sk-container-id-1 pre{padding: 0;}#sk-container-id-1 div.sk-toggleable {background-color: white;}#sk-container-id-1 label.sk-toggleable__label {cursor: pointer;display: block;width: 100%;margin-bottom: 0;padding: 0.3em;box-sizing: border-box;text-align: center;}#sk-container-id-1 label.sk-toggleable__label-arrow:before {content: \"▸\";float: left;margin-right: 0.25em;color: #696969;}#sk-container-id-1 label.sk-toggleable__label-arrow:hover:before {color: black;}#sk-container-id-1 div.sk-estimator:hover label.sk-toggleable__label-arrow:before {color: black;}#sk-container-id-1 div.sk-toggleable__content {max-height: 0;max-width: 0;overflow: hidden;text-align: left;background-color: #f0f8ff;}#sk-container-id-1 div.sk-toggleable__content pre {margin: 0.2em;color: black;border-radius: 0.25em;background-color: #f0f8ff;}#sk-container-id-1 input.sk-toggleable__control:checked~div.sk-toggleable__content {max-height: 200px;max-width: 100%;overflow: auto;}#sk-container-id-1 input.sk-toggleable__control:checked~label.sk-toggleable__label-arrow:before {content: \"▾\";}#sk-container-id-1 div.sk-estimator input.sk-toggleable__control:checked~label.sk-toggleable__label {background-color: #d4ebff;}#sk-container-id-1 div.sk-label input.sk-toggleable__control:checked~label.sk-toggleable__label {background-color: #d4ebff;}#sk-container-id-1 input.sk-hidden--visually {border: 0;clip: rect(1px 1px 1px 1px);clip: rect(1px, 1px, 1px, 1px);height: 1px;margin: -1px;overflow: hidden;padding: 0;position: absolute;width: 1px;}#sk-container-id-1 div.sk-estimator {font-family: monospace;background-color: #f0f8ff;border: 1px dotted black;border-radius: 0.25em;box-sizing: border-box;margin-bottom: 0.5em;}#sk-container-id-1 div.sk-estimator:hover {background-color: #d4ebff;}#sk-container-id-1 div.sk-parallel-item::after {content: \"\";width: 100%;border-bottom: 1px solid gray;flex-grow: 1;}#sk-container-id-1 div.sk-label:hover label.sk-toggleable__label {background-color: #d4ebff;}#sk-container-id-1 div.sk-serial::before {content: \"\";position: absolute;border-left: 1px solid gray;box-sizing: border-box;top: 0;bottom: 0;left: 50%;z-index: 0;}#sk-container-id-1 div.sk-serial {display: flex;flex-direction: column;align-items: center;background-color: white;padding-right: 0.2em;padding-left: 0.2em;position: relative;}#sk-container-id-1 div.sk-item {position: relative;z-index: 1;}#sk-container-id-1 div.sk-parallel {display: flex;align-items: stretch;justify-content: center;background-color: white;position: relative;}#sk-container-id-1 div.sk-item::before, #sk-container-id-1 div.sk-parallel-item::before {content: \"\";position: absolute;border-left: 1px solid gray;box-sizing: border-box;top: 0;bottom: 0;left: 50%;z-index: -1;}#sk-container-id-1 div.sk-parallel-item {display: flex;flex-direction: column;z-index: 1;position: relative;background-color: white;}#sk-container-id-1 div.sk-parallel-item:first-child::after {align-self: flex-end;width: 50%;}#sk-container-id-1 div.sk-parallel-item:last-child::after {align-self: flex-start;width: 50%;}#sk-container-id-1 div.sk-parallel-item:only-child::after {width: 0;}#sk-container-id-1 div.sk-dashed-wrapped {border: 1px dashed gray;margin: 0 0.4em 0.5em 0.4em;box-sizing: border-box;padding-bottom: 0.4em;background-color: white;}#sk-container-id-1 div.sk-label label {font-family: monospace;font-weight: bold;display: inline-block;line-height: 1.2em;}#sk-container-id-1 div.sk-label-container {text-align: center;}#sk-container-id-1 div.sk-container {/* jupyter's `normalize.less` sets `[hidden] { display: none; }` but bootstrap.min.css set `[hidden] { display: none !important; }` so we also need the `!important` here to be able to override the default hidden behavior on the sphinx rendered scikit-learn.org. See: https://github.com/scikit-learn/scikit-learn/issues/21755 */display: inline-block !important;position: relative;}#sk-container-id-1 div.sk-text-repr-fallback {display: none;}</style><div id=\"sk-container-id-1\" class=\"sk-top-container\"><div class=\"sk-text-repr-fallback\"><pre>MultinomialNB()</pre><b>In a Jupyter environment, please rerun this cell to show the HTML representation or trust the notebook. <br />On GitHub, the HTML representation is unable to render, please try loading this page with nbviewer.org.</b></div><div class=\"sk-container\" hidden><div class=\"sk-item\"><div class=\"sk-estimator sk-toggleable\"><input class=\"sk-toggleable__control sk-hidden--visually\" id=\"sk-estimator-id-1\" type=\"checkbox\" checked><label for=\"sk-estimator-id-1\" class=\"sk-toggleable__label sk-toggleable__label-arrow\">MultinomialNB</label><div class=\"sk-toggleable__content\"><pre>MultinomialNB()</pre></div></div></div></div></div>"
            ]
          },
          "metadata": {},
          "execution_count": 7
        }
      ]
    },
    {
      "cell_type": "markdown",
      "source": [
        "# preditingtest values"
      ],
      "metadata": {
        "id": "hBS4zbJj2Ez4"
      }
    },
    {
      "cell_type": "code",
      "source": [
        "y_pred = clf.predict(X_test_vec)"
      ],
      "metadata": {
        "id": "_xITSefZxUvw"
      },
      "execution_count": 8,
      "outputs": []
    },
    {
      "cell_type": "markdown",
      "source": [
        "# checking accuracy"
      ],
      "metadata": {
        "id": "OJkHX3LY2MG4"
      }
    },
    {
      "cell_type": "code",
      "source": [
        "\n",
        "accuracy = accuracy_score(y_test, y_pred)\n",
        "print(f\"Accuracy: {accuracy:.3f}\")"
      ],
      "metadata": {
        "id": "yHEM5ZACxUkY",
        "outputId": "0b75a66f-b088-4d2f-b09a-c6ec351b9b1e",
        "colab": {
          "base_uri": "https://localhost:8080/"
        }
      },
      "execution_count": 15,
      "outputs": [
        {
          "output_type": "stream",
          "name": "stdout",
          "text": [
            "Accuracy: 0.795\n"
          ]
        }
      ]
    },
    {
      "cell_type": "markdown",
      "source": [
        "# user input and output"
      ],
      "metadata": {
        "id": "bJwNFe8N2Ytp"
      }
    },
    {
      "cell_type": "code",
      "source": [
        "review_text = input(\"Enter the  restaurant review by customer: \")\n",
        "review_vec = vectorizer.transform([review_text])\n",
        "prediction = clf.predict(review_vec)[0]\n",
        "if prediction == 1:\n",
        "  print(\"Positive review by customer\")\n",
        "else:\n",
        "  print(\"Negative review by customer\")"
      ],
      "metadata": {
        "id": "RnplEikGxt6g",
        "outputId": "b6d5ddb7-354c-4ef1-d936-002f34a9ab5b",
        "colab": {
          "base_uri": "https://localhost:8080/"
        }
      },
      "execution_count": 10,
      "outputs": [
        {
          "output_type": "stream",
          "name": "stdout",
          "text": [
            "Enter the  restaurant review by customer: bad\n",
            "Negative review by customer\n"
          ]
        }
      ]
    },
    {
      "cell_type": "code",
      "source": [],
      "metadata": {
        "id": "oGeLVxg1x1Ow"
      },
      "execution_count": 10,
      "outputs": []
    },
    {
      "cell_type": "code",
      "source": [],
      "metadata": {
        "id": "VnGO7o09x1Ep"
      },
      "execution_count": 10,
      "outputs": []
    },
    {
      "cell_type": "code",
      "source": [],
      "metadata": {
        "id": "NJjWfyRqx07A"
      },
      "execution_count": 10,
      "outputs": []
    },
    {
      "cell_type": "markdown",
      "metadata": {
        "id": "5fCEDCU_qrC0"
      },
      "source": [
        "<div class=\"markdown-google-sans\">\n",
        "  <h2>What is Colab?</h2>\n",
        "</div>\n",
        "\n",
        "Colab, or \"Colaboratory\", allows you to write and execute Python in your browser, with\n",
        "- Zero configuration required\n",
        "- Access to GPUs free of charge\n",
        "- Easy sharing\n",
        "\n",
        "Whether you're a **student**, a **data scientist** or an **AI researcher**, Colab can make your work easier. Watch [Introduction to Colab](https://www.youtube.com/watch?v=inN8seMm7UI) to learn more, or just get started below!"
      ]
    },
    {
      "cell_type": "markdown",
      "metadata": {
        "id": "GJBs_flRovLc"
      },
      "source": [
        "<div class=\"markdown-google-sans\">\n",
        "\n",
        "## **Getting started**\n",
        "</div>\n",
        "\n",
        "The document you are reading is not a static web page, but an interactive environment called a **Colab notebook** that lets you write and execute code.\n",
        "\n",
        "For example, here is a **code cell** with a short Python script that computes a value, stores it in a variable, and prints the result:"
      ]
    },
    {
      "cell_type": "code",
      "execution_count": 11,
      "metadata": {
        "id": "gJr_9dXGpJ05",
        "outputId": "e6c22402-5329-4399-cd9e-6af5879f5173",
        "colab": {
          "base_uri": "https://localhost:8080/"
        }
      },
      "outputs": [
        {
          "output_type": "execute_result",
          "data": {
            "text/plain": [
              "86400"
            ]
          },
          "metadata": {},
          "execution_count": 11
        }
      ],
      "source": [
        "seconds_in_a_day = 24 * 60 * 60\n",
        "seconds_in_a_day"
      ]
    },
    {
      "cell_type": "markdown",
      "metadata": {
        "id": "2fhs6GZ4qFMx"
      },
      "source": [
        "To execute the code in the above cell, select it with a click and then either press the play button to the left of the code, or use the keyboard shortcut \"Command/Ctrl+Enter\". To edit the code, just click the cell and start editing.\n",
        "\n",
        "Variables that you define in one cell can later be used in other cells:"
      ]
    },
    {
      "cell_type": "code",
      "execution_count": 12,
      "metadata": {
        "id": "-gE-Ez1qtyIA",
        "outputId": "4d1b6a72-e3a3-44b7-8c73-d8f8cbc5c0cc",
        "colab": {
          "base_uri": "https://localhost:8080/"
        }
      },
      "outputs": [
        {
          "output_type": "execute_result",
          "data": {
            "text/plain": [
              "604800"
            ]
          },
          "metadata": {},
          "execution_count": 12
        }
      ],
      "source": [
        "seconds_in_a_week = 7 * seconds_in_a_day\n",
        "seconds_in_a_week"
      ]
    },
    {
      "cell_type": "markdown",
      "metadata": {
        "id": "lSrWNr3MuFUS"
      },
      "source": [
        "Colab notebooks allow you to combine **executable code** and **rich text** in a single document, along with **images**, **HTML**, **LaTeX** and more. When you create your own Colab notebooks, they are stored in your Google Drive account. You can easily share your Colab notebooks with co-workers or friends, allowing them to comment on your notebooks or even edit them. To learn more, see [Overview of Colab](/notebooks/basic_features_overview.ipynb). To create a new Colab notebook you can use the File menu above, or use the following link: [create a new Colab notebook](http://colab.research.google.com#create=true).\n",
        "\n",
        "Colab notebooks are Jupyter notebooks that are hosted by Colab. To learn more about the Jupyter project, see [jupyter.org](https://www.jupyter.org)."
      ]
    },
    {
      "cell_type": "markdown",
      "metadata": {
        "id": "UdRyKR44dcNI"
      },
      "source": [
        "<div class=\"markdown-google-sans\">\n",
        "\n",
        "## Data science\n",
        "</div>\n",
        "\n",
        "With Colab you can harness the full power of popular Python libraries to analyze and visualize data. The code cell below uses **numpy** to generate some random data, and uses **matplotlib** to visualize it. To edit the code, just click the cell and start editing."
      ]
    },
    {
      "cell_type": "markdown",
      "metadata": {
        "id": "4_kCnsPUqS6o"
      },
      "source": [
        "You can import your own data into Colab notebooks from your Google Drive account, including from spreadsheets, as well as from Github and many other sources. To learn more about importing data, and how Colab can be used for data science, see the links below under [Working with Data](#working-with-data)."
      ]
    },
    {
      "cell_type": "code",
      "execution_count": 13,
      "metadata": {
        "colab": {
          "height": 333,
          "base_uri": "https://localhost:8080/"
        },
        "id": "C4HZx7Gndbrh",
        "outputId": "d8d8d44c-626c-449e-a613-d1ee63650686"
      },
      "outputs": [
        {
          "output_type": "display_data",
          "data": {
            "text/plain": [
              "<IPython.core.display.Markdown object>"
            ],
            "text/markdown": "![Sample Visualization](data:image/png;base64,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)"
          },
          "metadata": {}
        }
      ],
      "source": [
        "import numpy as np\n",
        "import IPython.display as display\n",
        "from matplotlib import pyplot as plt\n",
        "import io\n",
        "import base64\n",
        "\n",
        "ys = 200 + np.random.randn(100)\n",
        "x = [x for x in range(len(ys))]\n",
        "\n",
        "fig = plt.figure(figsize=(4, 3), facecolor='w')\n",
        "plt.plot(x, ys, '-')\n",
        "plt.fill_between(x, ys, 195, where=(ys > 195), facecolor='g', alpha=0.6)\n",
        "plt.title(\"Sample Visualization\", fontsize=10)\n",
        "\n",
        "data = io.BytesIO()\n",
        "plt.savefig(data)\n",
        "image = F\"data:image/png;base64,{base64.b64encode(data.getvalue()).decode()}\"\n",
        "alt = \"Sample Visualization\"\n",
        "display.display(display.Markdown(F\"\"\"![{alt}]({image})\"\"\"))\n",
        "plt.close(fig)"
      ]
    },
    {
      "cell_type": "markdown",
      "metadata": {
        "id": "VYV91hbKwP2J"
      },
      "source": [
        "Colab notebooks execute code on Google's cloud servers, meaning you can leverage the power of Google hardware, including [GPUs and TPUs](#using-accelerated-hardware), regardless of the power of your machine. All you need is a browser.\n",
        "\n",
        "For example, if you find yourself waiting for **pandas** code to finish running and want to go faster, you can switch to a GPU Runtime and use libraries like [RAPIDS cuDF](https://rapids.ai/cudf-pandas) that provide zero-code-change acceleration."
      ]
    },
    {
      "cell_type": "markdown",
      "metadata": {
        "id": "vwnNlNIEwoZ8"
      },
      "source": [
        "To learn more about accelerating pandas on Colab, see the [10 minute guide](https://colab.research.google.com/github/rapidsai-community/showcase/blob/main/getting_started_tutorials/cudf_pandas_colab_demo.ipynb) or\n",
        " [US stock market data analysis demo](https://colab.research.google.com/github/rapidsai-community/showcase/blob/main/getting_started_tutorials/cudf_pandas_stocks_demo.ipynb)."
      ]
    },
    {
      "cell_type": "markdown",
      "metadata": {
        "id": "OwuxHmxllTwN"
      },
      "source": [
        "<div class=\"markdown-google-sans\">\n",
        "\n",
        "## Machine learning\n",
        "</div>\n",
        "\n",
        "With Colab you can import an image dataset, train an image classifier on it, and evaluate the model, all in just [a few lines of code](https://colab.research.google.com/github/tensorflow/docs/blob/master/site/en/tutorials/quickstart/beginner.ipynb)."
      ]
    },
    {
      "cell_type": "markdown",
      "metadata": {
        "id": "ufxBm1yRnruN"
      },
      "source": [
        "Colab is used extensively in the machine learning community with applications including:\n",
        "- Getting started with TensorFlow\n",
        "- Developing and training neural networks\n",
        "- Experimenting with TPUs\n",
        "- Disseminating AI research\n",
        "- Creating tutorials\n",
        "\n",
        "To see sample Colab notebooks that demonstrate machine learning applications, see the [machine learning examples](#machine-learning-examples) below."
      ]
    },
    {
      "cell_type": "markdown",
      "metadata": {
        "id": "-Rh3-Vt9Nev9"
      },
      "source": [
        "<div class=\"markdown-google-sans\">\n",
        "\n",
        "## More Resources\n",
        "\n",
        "### Working with Notebooks in Colab\n",
        "\n",
        "</div>\n",
        "\n",
        "- [Overview of Colab](/notebooks/basic_features_overview.ipynb)\n",
        "- [Guide to Markdown](/notebooks/markdown_guide.ipynb)\n",
        "- [Importing libraries and installing dependencies](/notebooks/snippets/importing_libraries.ipynb)\n",
        "- [Saving and loading notebooks in GitHub](https://colab.research.google.com/github/googlecolab/colabtools/blob/main/notebooks/colab-github-demo.ipynb)\n",
        "- [Interactive forms](/notebooks/forms.ipynb)\n",
        "- [Interactive widgets](/notebooks/widgets.ipynb)\n",
        "\n",
        "<div class=\"markdown-google-sans\">\n",
        "\n",
        "<a name=\"working-with-data\"></a>\n",
        "### Working with Data\n",
        "</div>\n",
        "\n",
        "- [Loading data: Drive, Sheets, and Google Cloud Storage](/notebooks/io.ipynb)\n",
        "- [Charts: visualizing data](/notebooks/charts.ipynb)\n",
        "- [Getting started with BigQuery](/notebooks/bigquery.ipynb)\n",
        "\n",
        "<div class=\"markdown-google-sans\">\n",
        "\n",
        "### Machine Learning Crash Course\n",
        "\n",
        "<div>\n",
        "\n",
        "These are a few of the notebooks from Google's online Machine Learning course. See the [full course website](https://developers.google.com/machine-learning/crash-course/) for more.\n",
        "- [Intro to Pandas DataFrame](https://colab.research.google.com/github/google/eng-edu/blob/main/ml/cc/exercises/pandas_dataframe_ultraquick_tutorial.ipynb)\n",
        "- [Intro to RAPIDS cuDF to accelerate pandas](https://nvda.ws/rapids-cudf)\n",
        "- [Linear regression with tf.keras using synthetic data](https://colab.research.google.com/github/google/eng-edu/blob/main/ml/cc/exercises/linear_regression_with_synthetic_data.ipynb)\n",
        "\n",
        "<div class=\"markdown-google-sans\">\n",
        "\n",
        "<a name=\"using-accelerated-hardware\"></a>\n",
        "### Using Accelerated Hardware\n",
        "</div>\n",
        "\n",
        "- [TensorFlow with GPUs](/notebooks/gpu.ipynb)\n",
        "- [TensorFlow with TPUs](/notebooks/tpu.ipynb)"
      ]
    },
    {
      "cell_type": "markdown",
      "metadata": {
        "id": "P-H6Lw1vyNNd"
      },
      "source": [
        "<div class=\"markdown-google-sans\">\n",
        "\n",
        "<a name=\"machine-learning-examples\"></a>\n",
        "\n",
        "### Featured examples\n",
        "\n",
        "</div>\n",
        "\n",
        "- [Retraining an Image Classifier](https://tensorflow.org/hub/tutorials/tf2_image_retraining): Build a Keras model on top of a pre-trained image classifier to distinguish flowers.\n",
        "- [Text Classification](https://tensorflow.org/hub/tutorials/tf2_text_classification): Classify IMDB movie reviews as either *positive* or *negative*.\n",
        "- [Style Transfer](https://tensorflow.org/hub/tutorials/tf2_arbitrary_image_stylization): Use deep learning to transfer style between images.\n",
        "- [Multilingual Universal Sentence Encoder Q&A](https://tensorflow.org/hub/tutorials/retrieval_with_tf_hub_universal_encoder_qa): Use a machine learning model to answer questions from the SQuAD dataset.\n",
        "- [Video Interpolation](https://tensorflow.org/hub/tutorials/tweening_conv3d): Predict what happened in a video between the first and the last frame.\n"
      ]
    }
  ],
  "metadata": {
    "colab": {
      "provenance": []
    },
    "kernelspec": {
      "display_name": "Python 3",
      "name": "python3"
    }
  },
  "nbformat": 4,
  "nbformat_minor": 0
}